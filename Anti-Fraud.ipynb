{
 "cells": [
  {
   "cell_type": "markdown",
   "id": "3a59adae",
   "metadata": {},
   "source": [
    "# IEEE-CIS Fraud Detection\n",
    "\n",
    "In this notebook, we will work on the IEEE-CIS Fraud Detection competition. Our aim is to train a machine learning model to predict the probability that an online transaction is fraudulent.   \n",
    "The data is broken into two files: identity and transaction, which are joined by TransactionID. Not all transactions have corresponding identity information.\n",
    "\n",
    "Categorical Features - Transaction:\n",
    "- ProductCD\n",
    "- card1 - card6\n",
    "- addr1, addr2\n",
    "- P_emaildomain\n",
    "- R_emaildomain\n",
    "- M1 - M9\n",
    "\n",
    "Categorical Features - Identity:\n",
    "- DeviceType\n",
    "- DeviceInfo\n",
    "- id_12 - id_38\n",
    "\n",
    "The TransactionDT feature is a timedelta from a given reference datetime (not an actual timestamp). \n",
    "Agenda:  \n",
    "1. Importing Necessary Libraries \n",
    "2. Data Loading \n",
    "3. Understanding, and Cleaning \n",
    "4. Data Preprocessing \n",
    "5. ML Modeling\n",
    "6. Conclusion"
   ]
  },
  {
   "cell_type": "code",
   "execution_count": 14,
   "id": "718a2d6b",
   "metadata": {},
   "outputs": [],
   "source": [
    "import os\n",
    "import pandas as pd \n",
    "import numpy as np\n",
    "import matplotlib\n",
    "import matplotlib.pyplot as plt\n",
    "import seaborn as sns\n",
    "from sklearn.model_selection import train_test_split\n",
    "from sklearn.impute import SimpleImputer\n",
    "import gc\n",
    "from sklearn.metrics import classification_report\n",
    "from sklearn.preprocessing import StandardScaler, OneHotEncoder\n",
    "from sklearn.compose import ColumnTransformer\n",
    "from sklearn.utils import resample\n",
    "from matplotlib.ticker import FuncFormatter\n",
    "\n",
    "\n",
    "import matplotlib.pyplot as plt\n",
    "from sklearn import model_selection\n",
    "from sklearn.linear_model import LogisticRegression\n",
    "from sklearn.tree import DecisionTreeClassifier\n",
    "from sklearn.neighbors import KNeighborsClassifier\n",
    "from sklearn.discriminant_analysis import LinearDiscriminantAnalysis\n",
    "from sklearn.naive_bayes import GaussianNB\n",
    "from sklearn.svm import SVC\n",
    "from sklearn.model_selection import train_test_split\n",
    "from sklearn import datasets\n",
    "import matplotlib.pyplot as plt\n",
    "from sklearn.ensemble import RandomForestClassifier\n",
    "from xgboost import XGBClassifier\n",
    "\n",
    "from sklearn.naive_bayes import GaussianNB\n",
    "\n",
    "from sklearn.ensemble import RandomForestClassifier\n",
    "from sklearn.metrics import roc_auc_score\n",
    "from sklearn.metrics import confusion_matrix\n",
    "from xgboost import XGBClassifier\n",
    "from imblearn.over_sampling import SMOTE\n",
    "\n",
    "plt.style.use('dark_background')\n",
    "\n",
    "import warnings\n",
    "from sklearn.exceptions import DataConversionWarning\n",
    "warnings.filterwarnings(action='ignore', category=DataConversionWarning)\n",
    "warnings.filterwarnings(\"ignore\")"
   ]
  },
  {
   "cell_type": "markdown",
   "id": "34040669",
   "metadata": {},
   "source": [
    "# 1. Data download and review"
   ]
  },
  {
   "cell_type": "code",
   "execution_count": 2,
   "id": "edab60e1",
   "metadata": {},
   "outputs": [],
   "source": [
    "# Loading data\n",
    "\n",
    "t_id = pd.read_csv('train_identity.csv')\n",
    "t_tran = pd.read_csv('train_transaction.csv')"
   ]
  },
  {
   "cell_type": "code",
   "execution_count": 3,
   "id": "bc7379fe",
   "metadata": {},
   "outputs": [
    {
     "data": {
      "text/html": [
       "<div>\n",
       "<style scoped>\n",
       "    .dataframe tbody tr th:only-of-type {\n",
       "        vertical-align: middle;\n",
       "    }\n",
       "\n",
       "    .dataframe tbody tr th {\n",
       "        vertical-align: top;\n",
       "    }\n",
       "\n",
       "    .dataframe thead th {\n",
       "        text-align: right;\n",
       "    }\n",
       "</style>\n",
       "<table border=\"1\" class=\"dataframe\">\n",
       "  <thead>\n",
       "    <tr style=\"text-align: right;\">\n",
       "      <th></th>\n",
       "      <th>TransactionID</th>\n",
       "      <th>id_01</th>\n",
       "      <th>id_02</th>\n",
       "      <th>id_03</th>\n",
       "      <th>id_04</th>\n",
       "      <th>id_05</th>\n",
       "      <th>id_06</th>\n",
       "      <th>id_07</th>\n",
       "      <th>id_08</th>\n",
       "      <th>id_09</th>\n",
       "      <th>...</th>\n",
       "      <th>id_31</th>\n",
       "      <th>id_32</th>\n",
       "      <th>id_33</th>\n",
       "      <th>id_34</th>\n",
       "      <th>id_35</th>\n",
       "      <th>id_36</th>\n",
       "      <th>id_37</th>\n",
       "      <th>id_38</th>\n",
       "      <th>DeviceType</th>\n",
       "      <th>DeviceInfo</th>\n",
       "    </tr>\n",
       "  </thead>\n",
       "  <tbody>\n",
       "    <tr>\n",
       "      <th>0</th>\n",
       "      <td>2987004</td>\n",
       "      <td>0.0</td>\n",
       "      <td>70787.0</td>\n",
       "      <td>NaN</td>\n",
       "      <td>NaN</td>\n",
       "      <td>NaN</td>\n",
       "      <td>NaN</td>\n",
       "      <td>NaN</td>\n",
       "      <td>NaN</td>\n",
       "      <td>NaN</td>\n",
       "      <td>...</td>\n",
       "      <td>samsung browser 6.2</td>\n",
       "      <td>32.0</td>\n",
       "      <td>2220x1080</td>\n",
       "      <td>match_status:2</td>\n",
       "      <td>T</td>\n",
       "      <td>F</td>\n",
       "      <td>T</td>\n",
       "      <td>T</td>\n",
       "      <td>mobile</td>\n",
       "      <td>SAMSUNG SM-G892A Build/NRD90M</td>\n",
       "    </tr>\n",
       "    <tr>\n",
       "      <th>1</th>\n",
       "      <td>2987008</td>\n",
       "      <td>-5.0</td>\n",
       "      <td>98945.0</td>\n",
       "      <td>NaN</td>\n",
       "      <td>NaN</td>\n",
       "      <td>0.0</td>\n",
       "      <td>-5.0</td>\n",
       "      <td>NaN</td>\n",
       "      <td>NaN</td>\n",
       "      <td>NaN</td>\n",
       "      <td>...</td>\n",
       "      <td>mobile safari 11.0</td>\n",
       "      <td>32.0</td>\n",
       "      <td>1334x750</td>\n",
       "      <td>match_status:1</td>\n",
       "      <td>T</td>\n",
       "      <td>F</td>\n",
       "      <td>F</td>\n",
       "      <td>T</td>\n",
       "      <td>mobile</td>\n",
       "      <td>iOS Device</td>\n",
       "    </tr>\n",
       "    <tr>\n",
       "      <th>2</th>\n",
       "      <td>2987010</td>\n",
       "      <td>-5.0</td>\n",
       "      <td>191631.0</td>\n",
       "      <td>0.0</td>\n",
       "      <td>0.0</td>\n",
       "      <td>0.0</td>\n",
       "      <td>0.0</td>\n",
       "      <td>NaN</td>\n",
       "      <td>NaN</td>\n",
       "      <td>0.0</td>\n",
       "      <td>...</td>\n",
       "      <td>chrome 62.0</td>\n",
       "      <td>NaN</td>\n",
       "      <td>NaN</td>\n",
       "      <td>NaN</td>\n",
       "      <td>F</td>\n",
       "      <td>F</td>\n",
       "      <td>T</td>\n",
       "      <td>T</td>\n",
       "      <td>desktop</td>\n",
       "      <td>Windows</td>\n",
       "    </tr>\n",
       "  </tbody>\n",
       "</table>\n",
       "<p>3 rows × 41 columns</p>\n",
       "</div>"
      ],
      "text/plain": [
       "   TransactionID  id_01     id_02  id_03  id_04  id_05  id_06  id_07  id_08  \\\n",
       "0        2987004    0.0   70787.0    NaN    NaN    NaN    NaN    NaN    NaN   \n",
       "1        2987008   -5.0   98945.0    NaN    NaN    0.0   -5.0    NaN    NaN   \n",
       "2        2987010   -5.0  191631.0    0.0    0.0    0.0    0.0    NaN    NaN   \n",
       "\n",
       "   id_09  ...                id_31  id_32      id_33           id_34  id_35  \\\n",
       "0    NaN  ...  samsung browser 6.2   32.0  2220x1080  match_status:2      T   \n",
       "1    NaN  ...   mobile safari 11.0   32.0   1334x750  match_status:1      T   \n",
       "2    0.0  ...          chrome 62.0    NaN        NaN             NaN      F   \n",
       "\n",
       "  id_36 id_37  id_38  DeviceType                     DeviceInfo  \n",
       "0     F     T      T      mobile  SAMSUNG SM-G892A Build/NRD90M  \n",
       "1     F     F      T      mobile                     iOS Device  \n",
       "2     F     T      T     desktop                        Windows  \n",
       "\n",
       "[3 rows x 41 columns]"
      ]
     },
     "execution_count": 3,
     "metadata": {},
     "output_type": "execute_result"
    }
   ],
   "source": [
    "t_id.head(3)"
   ]
  },
  {
   "cell_type": "code",
   "execution_count": 4,
   "id": "bd00be44",
   "metadata": {
    "scrolled": true
   },
   "outputs": [
    {
     "data": {
      "text/html": [
       "<div>\n",
       "<style scoped>\n",
       "    .dataframe tbody tr th:only-of-type {\n",
       "        vertical-align: middle;\n",
       "    }\n",
       "\n",
       "    .dataframe tbody tr th {\n",
       "        vertical-align: top;\n",
       "    }\n",
       "\n",
       "    .dataframe thead th {\n",
       "        text-align: right;\n",
       "    }\n",
       "</style>\n",
       "<table border=\"1\" class=\"dataframe\">\n",
       "  <thead>\n",
       "    <tr style=\"text-align: right;\">\n",
       "      <th></th>\n",
       "      <th>TransactionID</th>\n",
       "      <th>isFraud</th>\n",
       "      <th>TransactionDT</th>\n",
       "      <th>TransactionAmt</th>\n",
       "      <th>ProductCD</th>\n",
       "      <th>card1</th>\n",
       "      <th>card2</th>\n",
       "      <th>card3</th>\n",
       "      <th>card4</th>\n",
       "      <th>card5</th>\n",
       "      <th>...</th>\n",
       "      <th>V330</th>\n",
       "      <th>V331</th>\n",
       "      <th>V332</th>\n",
       "      <th>V333</th>\n",
       "      <th>V334</th>\n",
       "      <th>V335</th>\n",
       "      <th>V336</th>\n",
       "      <th>V337</th>\n",
       "      <th>V338</th>\n",
       "      <th>V339</th>\n",
       "    </tr>\n",
       "  </thead>\n",
       "  <tbody>\n",
       "    <tr>\n",
       "      <th>0</th>\n",
       "      <td>2987000</td>\n",
       "      <td>0</td>\n",
       "      <td>86400</td>\n",
       "      <td>68.5</td>\n",
       "      <td>W</td>\n",
       "      <td>13926</td>\n",
       "      <td>NaN</td>\n",
       "      <td>150.0</td>\n",
       "      <td>discover</td>\n",
       "      <td>142.0</td>\n",
       "      <td>...</td>\n",
       "      <td>NaN</td>\n",
       "      <td>NaN</td>\n",
       "      <td>NaN</td>\n",
       "      <td>NaN</td>\n",
       "      <td>NaN</td>\n",
       "      <td>NaN</td>\n",
       "      <td>NaN</td>\n",
       "      <td>NaN</td>\n",
       "      <td>NaN</td>\n",
       "      <td>NaN</td>\n",
       "    </tr>\n",
       "    <tr>\n",
       "      <th>1</th>\n",
       "      <td>2987001</td>\n",
       "      <td>0</td>\n",
       "      <td>86401</td>\n",
       "      <td>29.0</td>\n",
       "      <td>W</td>\n",
       "      <td>2755</td>\n",
       "      <td>404.0</td>\n",
       "      <td>150.0</td>\n",
       "      <td>mastercard</td>\n",
       "      <td>102.0</td>\n",
       "      <td>...</td>\n",
       "      <td>NaN</td>\n",
       "      <td>NaN</td>\n",
       "      <td>NaN</td>\n",
       "      <td>NaN</td>\n",
       "      <td>NaN</td>\n",
       "      <td>NaN</td>\n",
       "      <td>NaN</td>\n",
       "      <td>NaN</td>\n",
       "      <td>NaN</td>\n",
       "      <td>NaN</td>\n",
       "    </tr>\n",
       "    <tr>\n",
       "      <th>2</th>\n",
       "      <td>2987002</td>\n",
       "      <td>0</td>\n",
       "      <td>86469</td>\n",
       "      <td>59.0</td>\n",
       "      <td>W</td>\n",
       "      <td>4663</td>\n",
       "      <td>490.0</td>\n",
       "      <td>150.0</td>\n",
       "      <td>visa</td>\n",
       "      <td>166.0</td>\n",
       "      <td>...</td>\n",
       "      <td>NaN</td>\n",
       "      <td>NaN</td>\n",
       "      <td>NaN</td>\n",
       "      <td>NaN</td>\n",
       "      <td>NaN</td>\n",
       "      <td>NaN</td>\n",
       "      <td>NaN</td>\n",
       "      <td>NaN</td>\n",
       "      <td>NaN</td>\n",
       "      <td>NaN</td>\n",
       "    </tr>\n",
       "  </tbody>\n",
       "</table>\n",
       "<p>3 rows × 394 columns</p>\n",
       "</div>"
      ],
      "text/plain": [
       "   TransactionID  isFraud  TransactionDT  TransactionAmt ProductCD  card1  \\\n",
       "0        2987000        0          86400            68.5         W  13926   \n",
       "1        2987001        0          86401            29.0         W   2755   \n",
       "2        2987002        0          86469            59.0         W   4663   \n",
       "\n",
       "   card2  card3       card4  card5  ... V330  V331  V332  V333  V334 V335  \\\n",
       "0    NaN  150.0    discover  142.0  ...  NaN   NaN   NaN   NaN   NaN  NaN   \n",
       "1  404.0  150.0  mastercard  102.0  ...  NaN   NaN   NaN   NaN   NaN  NaN   \n",
       "2  490.0  150.0        visa  166.0  ...  NaN   NaN   NaN   NaN   NaN  NaN   \n",
       "\n",
       "  V336  V337  V338  V339  \n",
       "0  NaN   NaN   NaN   NaN  \n",
       "1  NaN   NaN   NaN   NaN  \n",
       "2  NaN   NaN   NaN   NaN  \n",
       "\n",
       "[3 rows x 394 columns]"
      ]
     },
     "execution_count": 4,
     "metadata": {},
     "output_type": "execute_result"
    }
   ],
   "source": [
    "t_tran.head(3)"
   ]
  },
  {
   "cell_type": "code",
   "execution_count": 5,
   "id": "36c38a59",
   "metadata": {},
   "outputs": [],
   "source": [
    "# We combine data by TransactionID\n",
    "\n",
    "train = t_tran.merge(t_id, on = ['TransactionID'], how = 'left')"
   ]
  },
  {
   "cell_type": "code",
   "execution_count": 6,
   "id": "ea8a8ef8",
   "metadata": {},
   "outputs": [
    {
     "data": {
      "text/plain": [
       "<function gc.collect(generation=2)>"
      ]
     },
     "execution_count": 6,
     "metadata": {},
     "output_type": "execute_result"
    }
   ],
   "source": [
    "del t_id\n",
    "del t_tran\n",
    "\n",
    "gc.collect"
   ]
  },
  {
   "cell_type": "code",
   "execution_count": 8,
   "id": "61f5b66f",
   "metadata": {},
   "outputs": [],
   "source": [
    "# Due to the large memory costs for processing the dataset, we will reduce the data to 150 thousand rows\n",
    "\n",
    "train = train.truncate(after=150000)"
   ]
  },
  {
   "cell_type": "code",
   "execution_count": 9,
   "id": "60a82610",
   "metadata": {},
   "outputs": [
    {
     "name": "stdout",
     "output_type": "stream",
     "text": [
      "Initial memory usage of dataframe is 657.04 MB/0.64 GB\n",
      "Memory usage after optimization is: 127.47 MB/0.12 GB\n",
      "Decreased by 80.6%\n"
     ]
    }
   ],
   "source": [
    "# Reduce memory usage\n",
    "\n",
    "def reduce_mem_usage(df):\n",
    "\n",
    "    start_mem = df.memory_usage(index=True, deep=True).sum() / 1024**2\n",
    "    start_mem_GB = df.memory_usage(index=True, deep=True).sum() / 1024**3\n",
    "    print(f'Initial memory usage of dataframe is {start_mem:.2f} MB/{start_mem_GB:.2f} GB')\n",
    "    \n",
    "    for col in df.columns:\n",
    "        col_type = df[col].dtype\n",
    "        \n",
    "        if col_type != object:\n",
    "            c_min = df[col].min()\n",
    "            c_max = df[col].max()\n",
    "            if str(col_type)[:3] == 'int':\n",
    "                if c_min > np.iinfo(np.int8).min and c_max < np.iinfo(np.int8).max:\n",
    "                    df[col] = df[col].astype(np.int8)\n",
    "                elif c_min > np.iinfo(np.int16).min and c_max < np.iinfo(np.int16).max:\n",
    "                    df[col] = df[col].astype(np.int16)\n",
    "                elif c_min > np.iinfo(np.int32).min and c_max < np.iinfo(np.int32).max:\n",
    "                    df[col] = df[col].astype(np.int32)\n",
    "                elif c_min > np.iinfo(np.int64).min and c_max < np.iinfo(np.int64).max:\n",
    "                    df[col] = df[col].astype(np.int64)  \n",
    "            else:\n",
    "                if c_min > np.finfo(np.float16).min and c_max < np.finfo(np.float16).max:\n",
    "                    df[col] = df[col].astype(np.float16)\n",
    "                elif c_min > np.finfo(np.float32).min and c_max < np.finfo(np.float32).max:\n",
    "                    df[col] = df[col].astype(np.float32)\n",
    "                else:\n",
    "                    df[col] = df[col].astype(np.float64)\n",
    "        else:\n",
    "            df[col] = df[col].astype('category')\n",
    "\n",
    "    end_mem = df.memory_usage(index=True, deep=True).sum() / 1024**2\n",
    "    end_mem_GB = df.memory_usage(index=True, deep=True).sum() / 1024**3\n",
    "    reduction = 100 * (start_mem - end_mem) / start_mem\n",
    "    print(f'Memory usage after optimization is: {end_mem:.2f} MB/{end_mem_GB:.2f} GB')\n",
    "    print(f'Decreased by {reduction:.1f}%')\n",
    "    \n",
    "    return df\n",
    "\n",
    "train = reduce_mem_usage(train)"
   ]
  },
  {
   "cell_type": "code",
   "execution_count": 10,
   "id": "eb2a02f4",
   "metadata": {},
   "outputs": [
    {
     "data": {
      "text/html": [
       "<div>\n",
       "<style scoped>\n",
       "    .dataframe tbody tr th:only-of-type {\n",
       "        vertical-align: middle;\n",
       "    }\n",
       "\n",
       "    .dataframe tbody tr th {\n",
       "        vertical-align: top;\n",
       "    }\n",
       "\n",
       "    .dataframe thead th {\n",
       "        text-align: right;\n",
       "    }\n",
       "</style>\n",
       "<table border=\"1\" class=\"dataframe\">\n",
       "  <thead>\n",
       "    <tr style=\"text-align: right;\">\n",
       "      <th></th>\n",
       "      <th></th>\n",
       "      <th>TransactionID</th>\n",
       "      <th>isFraud</th>\n",
       "      <th>TransactionDT</th>\n",
       "      <th>TransactionAmt</th>\n",
       "      <th>ProductCD</th>\n",
       "      <th>card1</th>\n",
       "      <th>card2</th>\n",
       "      <th>card3</th>\n",
       "      <th>card4</th>\n",
       "      <th>card5</th>\n",
       "      <th>...</th>\n",
       "      <th>id_31</th>\n",
       "      <th>id_32</th>\n",
       "      <th>id_33</th>\n",
       "      <th>id_34</th>\n",
       "      <th>id_35</th>\n",
       "      <th>id_36</th>\n",
       "      <th>id_37</th>\n",
       "      <th>id_38</th>\n",
       "      <th>DeviceType</th>\n",
       "      <th>DeviceInfo</th>\n",
       "    </tr>\n",
       "  </thead>\n",
       "  <tbody>\n",
       "    <tr>\n",
       "      <th>Missing values</th>\n",
       "      <th>0</th>\n",
       "      <td>0.0</td>\n",
       "      <td>0.0</td>\n",
       "      <td>0.0</td>\n",
       "      <td>0.0</td>\n",
       "      <td>0.0</td>\n",
       "      <td>0.0</td>\n",
       "      <td>2034.000000</td>\n",
       "      <td>3.000</td>\n",
       "      <td>8.000000</td>\n",
       "      <td>791.00000</td>\n",
       "      <td>...</td>\n",
       "      <td>90217.000000</td>\n",
       "      <td>107061.000000</td>\n",
       "      <td>110174.000000</td>\n",
       "      <td>106993.000000</td>\n",
       "      <td>90031.000000</td>\n",
       "      <td>90031.000000</td>\n",
       "      <td>90031.000000</td>\n",
       "      <td>90031.000000</td>\n",
       "      <td>90153.000000</td>\n",
       "      <td>96316.000000</td>\n",
       "    </tr>\n",
       "    <tr>\n",
       "      <th>Missing values %</th>\n",
       "      <th>0</th>\n",
       "      <td>0.0</td>\n",
       "      <td>0.0</td>\n",
       "      <td>0.0</td>\n",
       "      <td>0.0</td>\n",
       "      <td>0.0</td>\n",
       "      <td>0.0</td>\n",
       "      <td>1.355991</td>\n",
       "      <td>0.002</td>\n",
       "      <td>0.005333</td>\n",
       "      <td>0.52733</td>\n",
       "      <td>...</td>\n",
       "      <td>60.144266</td>\n",
       "      <td>71.373524</td>\n",
       "      <td>73.448844</td>\n",
       "      <td>71.328191</td>\n",
       "      <td>60.020267</td>\n",
       "      <td>60.020267</td>\n",
       "      <td>60.020267</td>\n",
       "      <td>60.020267</td>\n",
       "      <td>60.101599</td>\n",
       "      <td>64.210239</td>\n",
       "    </tr>\n",
       "  </tbody>\n",
       "</table>\n",
       "<p>2 rows × 434 columns</p>\n",
       "</div>"
      ],
      "text/plain": [
       "                    TransactionID  isFraud  TransactionDT  TransactionAmt  \\\n",
       "Missing values   0            0.0      0.0            0.0             0.0   \n",
       "Missing values % 0            0.0      0.0            0.0             0.0   \n",
       "\n",
       "                    ProductCD  card1        card2  card3     card4      card5  \\\n",
       "Missing values   0        0.0    0.0  2034.000000  3.000  8.000000  791.00000   \n",
       "Missing values % 0        0.0    0.0     1.355991  0.002  0.005333    0.52733   \n",
       "\n",
       "                    ...         id_31          id_32          id_33  \\\n",
       "Missing values   0  ...  90217.000000  107061.000000  110174.000000   \n",
       "Missing values % 0  ...     60.144266      71.373524      73.448844   \n",
       "\n",
       "                            id_34         id_35         id_36         id_37  \\\n",
       "Missing values   0  106993.000000  90031.000000  90031.000000  90031.000000   \n",
       "Missing values % 0      71.328191     60.020267     60.020267     60.020267   \n",
       "\n",
       "                           id_38    DeviceType    DeviceInfo  \n",
       "Missing values   0  90031.000000  90153.000000  96316.000000  \n",
       "Missing values % 0     60.020267     60.101599     64.210239  \n",
       "\n",
       "[2 rows x 434 columns]"
      ]
     },
     "execution_count": 10,
     "metadata": {},
     "output_type": "execute_result"
    }
   ],
   "source": [
    "# Check the number of passes\n",
    "\n",
    "mv = train.isnull().sum().to_frame()\n",
    "mv_p = (train.isnull().sum()/train.isnull().count()*100)\n",
    "\n",
    "pd.concat([mv, mv_p], axis=1, keys=['Missing values', 'Missing values %']).transpose()"
   ]
  },
  {
   "cell_type": "code",
   "execution_count": 11,
   "id": "f03f5ad4",
   "metadata": {},
   "outputs": [
    {
     "data": {
      "text/html": [
       "<div>\n",
       "<style scoped>\n",
       "    .dataframe tbody tr th:only-of-type {\n",
       "        vertical-align: middle;\n",
       "    }\n",
       "\n",
       "    .dataframe tbody tr th {\n",
       "        vertical-align: top;\n",
       "    }\n",
       "\n",
       "    .dataframe thead tr th {\n",
       "        text-align: left;\n",
       "    }\n",
       "\n",
       "    .dataframe thead tr:last-of-type th {\n",
       "        text-align: right;\n",
       "    }\n",
       "</style>\n",
       "<table border=\"1\" class=\"dataframe\">\n",
       "  <thead>\n",
       "    <tr>\n",
       "      <th></th>\n",
       "      <th>Count</th>\n",
       "      <th>Percent</th>\n",
       "    </tr>\n",
       "    <tr>\n",
       "      <th></th>\n",
       "      <th>count</th>\n",
       "      <th>count</th>\n",
       "    </tr>\n",
       "    <tr>\n",
       "      <th>isFraud</th>\n",
       "      <th></th>\n",
       "      <th></th>\n",
       "    </tr>\n",
       "  </thead>\n",
       "  <tbody>\n",
       "    <tr>\n",
       "      <th>0</th>\n",
       "      <td>146031</td>\n",
       "      <td>0.973534</td>\n",
       "    </tr>\n",
       "    <tr>\n",
       "      <th>1</th>\n",
       "      <td>3970</td>\n",
       "      <td>0.026466</td>\n",
       "    </tr>\n",
       "  </tbody>\n",
       "</table>\n",
       "</div>"
      ],
      "text/plain": [
       "          Count   Percent\n",
       "          count     count\n",
       "isFraud                  \n",
       "0        146031  0.973534\n",
       "1          3970  0.026466"
      ]
     },
     "execution_count": 11,
     "metadata": {},
     "output_type": "execute_result"
    }
   ],
   "source": [
    "target_count = pd.DataFrame(train['isFraud'].value_counts())\n",
    "target_percent = pd.DataFrame(train['isFraud'].value_counts()/len(train))\n",
    "\n",
    "pd.concat([target_count, target_percent], axis=1, keys=['Count', 'Percent'])"
   ]
  },
  {
   "cell_type": "code",
   "execution_count": 15,
   "id": "8ed3b34d",
   "metadata": {},
   "outputs": [
    {
     "data": {
      "image/png": "[encoded data removed]",
      "text/plain": [
       "<Figure size 640x480 with 1 Axes>"
      ]
     },
     "metadata": {},
     "output_type": "display_data"
    }
   ],
   "source": [
    "ax = sns.countplot(data = train, x='isFraud')\n",
    "for i in ax.containers:\n",
    "    ax.bar_label(i)\n",
    "ax.set_xticklabels(['Normal','Fraud'])\n",
    "    \n",
    "plt.title('Frequency of Normal and Fraud transactions')\n",
    "plt.show()"
   ]
  },
  {
   "cell_type": "markdown",
   "id": "ffd0f588",
   "metadata": {},
   "source": [
    "We are observing unbalanced data, which is not suitable for training in its current form. In the future, we will perform an oversampling procedure based on the attribute \"isFraud\"."
   ]
  },
  {
   "cell_type": "markdown",
   "id": "6cb0ff14",
   "metadata": {},
   "source": [
    "# 2. Data Preprocessing "
   ]
  },
  {
   "cell_type": "code",
   "execution_count": 16,
   "id": "59e3dcb3",
   "metadata": {},
   "outputs": [],
   "source": [
    "# Selecting categorical features\n",
    "\n",
    "category_features = ['ProductCD','card4','card6', 'P_emaildomain', 'R_emaildomain',\n",
    "                'M1', 'M2', 'M3', 'M4', 'M5', 'M6', 'M7', 'M8', 'M9', 'DeviceType', 'DeviceInfo', 'id_12', 'id_15',\n",
    "                'id_16','id_23','id_27','id_28','id_29','id_30','id_31',\n",
    "                'id_33','id_34','id_35','id_36','id_37','id_38']"
   ]
  },
  {
   "cell_type": "code",
   "execution_count": 17,
   "id": "fcaccb70",
   "metadata": {},
   "outputs": [],
   "source": [
    "# Selecting categorical features\n",
    "\n",
    "numerical_features = [i for i in train.columns.values[2:] if i not in category_features]"
   ]
  },
  {
   "cell_type": "code",
   "execution_count": 18,
   "id": "6ca193f3",
   "metadata": {},
   "outputs": [
    {
     "name": "stdout",
     "output_type": "stream",
     "text": [
      "Number of categorical features: 31\n",
      "Number of numerical features: 401\n"
     ]
    }
   ],
   "source": [
    "# Let's look at the number of categorical and numeric features\n",
    "\n",
    "print('Number of categorical features:', len(category_features))\n",
    "print('Number of numerical features:', len(numerical_features))"
   ]
  },
  {
   "cell_type": "markdown",
   "id": "1f59b23d",
   "metadata": {},
   "source": [
    "## 2.1 OHE"
   ]
  },
  {
   "cell_type": "code",
   "execution_count": 19,
   "id": "c3ae7e10",
   "metadata": {},
   "outputs": [],
   "source": [
    "scaler = StandardScaler()\n",
    "\n",
    "ohe = OneHotEncoder(handle_unknown='ignore')\n",
    "\n",
    "transformed = ohe.fit_transform(train[category_features])\n",
    "transformed_df = pd.DataFrame(transformed.toarray(), columns=ohe.get_feature_names_out(category_features))\n",
    "train = pd.concat([train.drop(category_features, axis=1), transformed_df], axis=1)"
   ]
  },
  {
   "cell_type": "code",
   "execution_count": 20,
   "id": "73ea6e1b",
   "metadata": {},
   "outputs": [
    {
     "data": {
      "text/plain": [
       "(150001, 2010)"
      ]
     },
     "execution_count": 20,
     "metadata": {},
     "output_type": "execute_result"
    }
   ],
   "source": [
    "train.shape"
   ]
  },
  {
   "cell_type": "markdown",
   "id": "bb742053",
   "metadata": {},
   "source": [
    "## 2.2 Data Oversampling"
   ]
  },
  {
   "cell_type": "code",
   "execution_count": 21,
   "id": "c851c7a7",
   "metadata": {},
   "outputs": [],
   "source": [
    "# Scaling numerical features\n",
    "\n",
    "scaler = StandardScaler()\n",
    "train[numerical_features] = scaler.fit_transform(train[numerical_features])"
   ]
  },
  {
   "cell_type": "code",
   "execution_count": 22,
   "id": "c8841bc4",
   "metadata": {},
   "outputs": [
    {
     "data": {
      "text/html": [
       "<div>\n",
       "<style scoped>\n",
       "    .dataframe tbody tr th:only-of-type {\n",
       "        vertical-align: middle;\n",
       "    }\n",
       "\n",
       "    .dataframe tbody tr th {\n",
       "        vertical-align: top;\n",
       "    }\n",
       "\n",
       "    .dataframe thead th {\n",
       "        text-align: right;\n",
       "    }\n",
       "</style>\n",
       "<table border=\"1\" class=\"dataframe\">\n",
       "  <thead>\n",
       "    <tr style=\"text-align: right;\">\n",
       "      <th></th>\n",
       "      <th>TransactionID</th>\n",
       "      <th>isFraud</th>\n",
       "      <th>TransactionDT</th>\n",
       "      <th>TransactionAmt</th>\n",
       "      <th>card1</th>\n",
       "      <th>card2</th>\n",
       "      <th>card3</th>\n",
       "      <th>card5</th>\n",
       "      <th>addr1</th>\n",
       "      <th>addr2</th>\n",
       "      <th>...</th>\n",
       "      <th>id_35_nan</th>\n",
       "      <th>id_36_F</th>\n",
       "      <th>id_36_T</th>\n",
       "      <th>id_36_nan</th>\n",
       "      <th>id_37_F</th>\n",
       "      <th>id_37_T</th>\n",
       "      <th>id_37_nan</th>\n",
       "      <th>id_38_F</th>\n",
       "      <th>id_38_T</th>\n",
       "      <th>id_38_nan</th>\n",
       "    </tr>\n",
       "  </thead>\n",
       "  <tbody>\n",
       "    <tr>\n",
       "      <th>0</th>\n",
       "      <td>2987000</td>\n",
       "      <td>0</td>\n",
       "      <td>-1.839114</td>\n",
       "      <td>-0.297226</td>\n",
       "      <td>0.825589</td>\n",
       "      <td>NaN</td>\n",
       "      <td>-0.303941</td>\n",
       "      <td>-1.427279</td>\n",
       "      <td>0.230320</td>\n",
       "      <td>0.121856</td>\n",
       "      <td>...</td>\n",
       "      <td>1.0</td>\n",
       "      <td>0.0</td>\n",
       "      <td>0.0</td>\n",
       "      <td>1.0</td>\n",
       "      <td>0.0</td>\n",
       "      <td>0.0</td>\n",
       "      <td>1.0</td>\n",
       "      <td>0.0</td>\n",
       "      <td>0.0</td>\n",
       "      <td>1.0</td>\n",
       "    </tr>\n",
       "    <tr>\n",
       "      <th>1</th>\n",
       "      <td>2987001</td>\n",
       "      <td>0</td>\n",
       "      <td>-1.839113</td>\n",
       "      <td>-0.494179</td>\n",
       "      <td>-1.446489</td>\n",
       "      <td>0.214509</td>\n",
       "      <td>-0.303941</td>\n",
       "      <td>-2.408158</td>\n",
       "      <td>0.328050</td>\n",
       "      <td>0.121856</td>\n",
       "      <td>...</td>\n",
       "      <td>1.0</td>\n",
       "      <td>0.0</td>\n",
       "      <td>0.0</td>\n",
       "      <td>1.0</td>\n",
       "      <td>0.0</td>\n",
       "      <td>0.0</td>\n",
       "      <td>1.0</td>\n",
       "      <td>0.0</td>\n",
       "      <td>0.0</td>\n",
       "      <td>1.0</td>\n",
       "    </tr>\n",
       "    <tr>\n",
       "      <th>2</th>\n",
       "      <td>2987002</td>\n",
       "      <td>0</td>\n",
       "      <td>-1.839029</td>\n",
       "      <td>-0.344594</td>\n",
       "      <td>-1.058420</td>\n",
       "      <td>0.754882</td>\n",
       "      <td>-0.303941</td>\n",
       "      <td>-0.838751</td>\n",
       "      <td>0.376916</td>\n",
       "      <td>0.121856</td>\n",
       "      <td>...</td>\n",
       "      <td>1.0</td>\n",
       "      <td>0.0</td>\n",
       "      <td>0.0</td>\n",
       "      <td>1.0</td>\n",
       "      <td>0.0</td>\n",
       "      <td>0.0</td>\n",
       "      <td>1.0</td>\n",
       "      <td>0.0</td>\n",
       "      <td>0.0</td>\n",
       "      <td>1.0</td>\n",
       "    </tr>\n",
       "    <tr>\n",
       "      <th>3</th>\n",
       "      <td>2987003</td>\n",
       "      <td>0</td>\n",
       "      <td>-1.838993</td>\n",
       "      <td>-0.389470</td>\n",
       "      <td>1.681051</td>\n",
       "      <td>1.238705</td>\n",
       "      <td>-0.303941</td>\n",
       "      <td>-2.040329</td>\n",
       "      <td>1.803785</td>\n",
       "      <td>0.121856</td>\n",
       "      <td>...</td>\n",
       "      <td>1.0</td>\n",
       "      <td>0.0</td>\n",
       "      <td>0.0</td>\n",
       "      <td>1.0</td>\n",
       "      <td>0.0</td>\n",
       "      <td>0.0</td>\n",
       "      <td>1.0</td>\n",
       "      <td>0.0</td>\n",
       "      <td>0.0</td>\n",
       "      <td>1.0</td>\n",
       "    </tr>\n",
       "    <tr>\n",
       "      <th>4</th>\n",
       "      <td>2987004</td>\n",
       "      <td>0</td>\n",
       "      <td>-1.838984</td>\n",
       "      <td>-0.389470</td>\n",
       "      <td>-1.092183</td>\n",
       "      <td>0.905684</td>\n",
       "      <td>-0.303941</td>\n",
       "      <td>-2.408158</td>\n",
       "      <td>1.256493</td>\n",
       "      <td>0.121856</td>\n",
       "      <td>...</td>\n",
       "      <td>0.0</td>\n",
       "      <td>1.0</td>\n",
       "      <td>0.0</td>\n",
       "      <td>0.0</td>\n",
       "      <td>0.0</td>\n",
       "      <td>1.0</td>\n",
       "      <td>0.0</td>\n",
       "      <td>0.0</td>\n",
       "      <td>1.0</td>\n",
       "      <td>0.0</td>\n",
       "    </tr>\n",
       "  </tbody>\n",
       "</table>\n",
       "<p>5 rows × 2010 columns</p>\n",
       "</div>"
      ],
      "text/plain": [
       "   TransactionID  isFraud  TransactionDT  TransactionAmt     card1     card2  \\\n",
       "0        2987000        0      -1.839114       -0.297226  0.825589       NaN   \n",
       "1        2987001        0      -1.839113       -0.494179 -1.446489  0.214509   \n",
       "2        2987002        0      -1.839029       -0.344594 -1.058420  0.754882   \n",
       "3        2987003        0      -1.838993       -0.389470  1.681051  1.238705   \n",
       "4        2987004        0      -1.838984       -0.389470 -1.092183  0.905684   \n",
       "\n",
       "      card3     card5     addr1     addr2  ...  id_35_nan  id_36_F  id_36_T  \\\n",
       "0 -0.303941 -1.427279  0.230320  0.121856  ...        1.0      0.0      0.0   \n",
       "1 -0.303941 -2.408158  0.328050  0.121856  ...        1.0      0.0      0.0   \n",
       "2 -0.303941 -0.838751  0.376916  0.121856  ...        1.0      0.0      0.0   \n",
       "3 -0.303941 -2.040329  1.803785  0.121856  ...        1.0      0.0      0.0   \n",
       "4 -0.303941 -2.408158  1.256493  0.121856  ...        0.0      1.0      0.0   \n",
       "\n",
       "   id_36_nan  id_37_F  id_37_T  id_37_nan  id_38_F  id_38_T  id_38_nan  \n",
       "0        1.0      0.0      0.0        1.0      0.0      0.0        1.0  \n",
       "1        1.0      0.0      0.0        1.0      0.0      0.0        1.0  \n",
       "2        1.0      0.0      0.0        1.0      0.0      0.0        1.0  \n",
       "3        1.0      0.0      0.0        1.0      0.0      0.0        1.0  \n",
       "4        0.0      0.0      1.0        0.0      0.0      1.0        0.0  \n",
       "\n",
       "[5 rows x 2010 columns]"
      ]
     },
     "execution_count": 22,
     "metadata": {},
     "output_type": "execute_result"
    }
   ],
   "source": [
    "train.head()"
   ]
  },
  {
   "cell_type": "code",
   "execution_count": 23,
   "id": "53eeadc6",
   "metadata": {},
   "outputs": [],
   "source": [
    "#del scaler, ohe\n",
    "#gc.collect"
   ]
  },
  {
   "cell_type": "code",
   "execution_count": 24,
   "id": "5937a1e7",
   "metadata": {},
   "outputs": [],
   "source": [
    "y=train['isFraud']\n",
    "df_maj = train[y == 0]\n",
    "\n",
    "df_min = train[y == 1]\n",
    "\n",
    "\n",
    "y_maj = y[y == 0]\n",
    "y_min = y[y == 1]\n",
    "\n",
    "\n",
    "df_min_upsampled = resample(df_min, replace=True,n_samples=len(df_maj),random_state=12345)\n",
    "\n",
    "train = pd.concat([df_maj, df_min_upsampled])\n",
    "y_min_upsampled = y_min[df_min_upsampled.index]\n",
    "y = pd.concat([y_maj, y_min_upsampled])\n"
   ]
  },
  {
   "cell_type": "code",
   "execution_count": 26,
   "id": "9b9f7a21",
   "metadata": {},
   "outputs": [
    {
     "name": "stdout",
     "output_type": "stream",
     "text": [
      "(292062, 2010)\n"
     ]
    }
   ],
   "source": [
    "# fill the blanks\n",
    "\n",
    "imputer = SimpleImputer(strategy='median')\n",
    "imputer.fit(train)\n",
    "X_train = imputer.transform(train)\n",
    "print(X_train.shape)"
   ]
  },
  {
   "cell_type": "markdown",
   "id": "36505ebc",
   "metadata": {},
   "source": [
    "# 3. Modeling"
   ]
  },
  {
   "cell_type": "code",
   "execution_count": 28,
   "id": "e9ac47c7",
   "metadata": {},
   "outputs": [],
   "source": [
    "y = train['isFraud']\n",
    "\n",
    "train.drop('isFraud', axis=1, inplace=True)\n",
    "train.drop('TransactionID', axis=1, inplace=True)"
   ]
  },
  {
   "cell_type": "code",
   "execution_count": 29,
   "id": "81534419",
   "metadata": {},
   "outputs": [],
   "source": [
    "train_X, test_X, train_Y, test_Y = train_test_split(X_train, y, test_size=0.2, stratify=y)"
   ]
  },
  {
   "cell_type": "code",
   "execution_count": 30,
   "id": "86042f6d",
   "metadata": {
    "scrolled": true
   },
   "outputs": [],
   "source": [
    "ov_sam = SMOTE(random_state=12345)\n",
    "ov_sam_df_X, ov_sam_df_y = ov_sam.fit_resample(train_X, train_Y)"
   ]
  },
  {
   "cell_type": "markdown",
   "id": "400b9cf1",
   "metadata": {},
   "source": [
    "## 3.1 KNN"
   ]
  },
  {
   "cell_type": "code",
   "execution_count": 31,
   "id": "76020f85",
   "metadata": {},
   "outputs": [
    {
     "name": "stdout",
     "output_type": "stream",
     "text": [
      "k=  9\n",
      "              precision    recall  f1-score   support\n",
      "\n",
      "           0       0.93      1.00      0.96     27210\n",
      "           1       1.00      0.94      0.97     31203\n",
      "\n",
      "    accuracy                           0.97     58413\n",
      "   macro avg       0.97      0.97      0.97     58413\n",
      "weighted avg       0.97      0.97      0.97     58413\n",
      "\n"
     ]
    }
   ],
   "source": [
    "for i in range(1, 10, 2):\n",
    "    n = KNeighborsClassifier(n_neighbors=i)\n",
    "    n.fit(train_X, train_Y)\n",
    "    predict = n.predict(test_X)\n",
    "print('k= ', i)\n",
    "print(classification_report(predict, test_Y))"
   ]
  },
  {
   "cell_type": "markdown",
   "id": "045c2608",
   "metadata": {},
   "source": [
    "## 3.2 Random Forest"
   ]
  },
  {
   "cell_type": "code",
   "execution_count": 38,
   "id": "70b55981",
   "metadata": {},
   "outputs": [
    {
     "name": "stdout",
     "output_type": "stream",
     "text": [
      "\n",
      "\n",
      " Classification Report\n",
      "\n",
      "              precision    recall  f1-score   support\n",
      "\n",
      "           0       1.00      1.00      1.00     29206\n",
      "           1       1.00      1.00      1.00     29207\n",
      "\n",
      "    accuracy                           1.00     58413\n",
      "   macro avg       1.00      1.00      1.00     58413\n",
      "weighted avg       1.00      1.00      1.00     58413\n",
      "\n"
     ]
    }
   ],
   "source": [
    "rf = RandomForestClassifier(criterion='entropy', max_features='sqrt', max_samples=0.5, min_samples_split=80)\n",
    "model_rf = rf.fit(train_X, train_Y)\n",
    "predict_rf = model_rf.predict(test_X)\n",
    "cr_rf = classification_report(test_Y, predict_rf)\n",
    "print('\\n\\n Classification Report\\n')\n",
    "print(cr_rf)"
   ]
  },
  {
   "cell_type": "markdown",
   "id": "28180762",
   "metadata": {},
   "source": [
    "## 3.3 XGB"
   ]
  },
  {
   "cell_type": "code",
   "execution_count": 35,
   "id": "9ed0aa7a",
   "metadata": {},
   "outputs": [
    {
     "name": "stdout",
     "output_type": "stream",
     "text": [
      "\n",
      "\n",
      " Classification Report\n",
      "\n",
      "              precision    recall  f1-score   support\n",
      "\n",
      "           0       1.00      1.00      1.00     29206\n",
      "           1       1.00      1.00      1.00     29207\n",
      "\n",
      "    accuracy                           1.00     58413\n",
      "   macro avg       1.00      1.00      1.00     58413\n",
      "weighted avg       1.00      1.00      1.00     58413\n",
      "\n"
     ]
    }
   ],
   "source": [
    "model = XGBClassifier(seed=42, n_estimators=500, max_depth=10, learning_rate=0.2)\n",
    "\n",
    "model_xgbc = model.fit(train_X, train_Y)\n",
    "predict_xgbc = model_xgbc.predict(test_X)\n",
    "\n",
    "cr_xgbc = classification_report(test_Y, predict_xgbc)\n",
    "print('\\n\\n Classification Report\\n')\n",
    "print(cr_xgbc)"
   ]
  },
  {
   "cell_type": "markdown",
   "id": "5acaf582",
   "metadata": {},
   "source": [
    "## 3.4 Logistic regression"
   ]
  },
  {
   "cell_type": "code",
   "execution_count": 37,
   "id": "0044049b",
   "metadata": {},
   "outputs": [
    {
     "name": "stdout",
     "output_type": "stream",
     "text": [
      "\n",
      "\n",
      " Classification Report\n",
      "\n",
      "              precision    recall  f1-score   support\n",
      "\n",
      "           0       0.64      0.84      0.73     29206\n",
      "           1       0.77      0.54      0.63     29207\n",
      "\n",
      "    accuracy                           0.69     58413\n",
      "   macro avg       0.71      0.69      0.68     58413\n",
      "weighted avg       0.71      0.69      0.68     58413\n",
      "\n"
     ]
    }
   ],
   "source": [
    "model = LogisticRegression(random_state=12345)\n",
    "model_lr = model.fit(train_X, train_Y)\n",
    "predict_lr = model_lr.predict(test_X)\n",
    "cr_lr = classification_report(test_Y, predict_lr)\n",
    "print('\\n\\n Classification Report\\n')\n",
    "print(cr_lr)"
   ]
  },
  {
   "cell_type": "markdown",
   "id": "505ed205",
   "metadata": {},
   "source": [
    "# 4. Conclusion"
   ]
  },
  {
   "cell_type": "markdown",
   "id": "3a1ee071",
   "metadata": {},
   "source": [
    "All models have high scores, except for the logistic regression model. Of all the models, Random Forest and XGBoost stand out strongly. It is also worth noting that these models trained faster than KNN. For this task, we will select XGBoost as the best model for accurately identifying fraudulent operations."
   ]
  },
  {
   "cell_type": "code",
   "execution_count": null,
   "id": "558411f7",
   "metadata": {},
   "outputs": [],
   "source": []
  }
 ],
 "metadata": {
  "kernelspec": {
   "display_name": "Python 3 (ipykernel)",
   "language": "python",
   "name": "python3"
  },
  "language_info": {
   "codemirror_mode": {
    "name": "ipython",
    "version": 3
   },
   "file_extension": ".py",
   "mimetype": "text/x-python",
   "name": "python",
   "nbconvert_exporter": "python",
   "pygments_lexer": "ipython3",
   "version": "3.11.5"
  }
 },
 "nbformat": 4,
 "nbformat_minor": 5
}
